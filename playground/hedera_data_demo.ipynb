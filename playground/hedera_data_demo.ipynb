{
 "cells": [
  {
   "cell_type": "code",
   "execution_count": 1,
   "metadata": {
    "metadata": {}
   },
   "outputs": [
    {
     "name": "stderr",
     "output_type": "stream",
     "text": [
      "/home/codespace/.python/current/lib/python3.10/site-packages/tqdm/auto.py:21: TqdmWarning: IProgress not found. Please update jupyter and ipywidgets. See https://ipywidgets.readthedocs.io/en/stable/user_install.html\n",
      "  from .autonotebook import tqdm as notebook_tqdm\n"
     ]
    }
   ],
   "source": [
    "import pandas as pd\n",
    "import numpy as np\n",
    "\n",
    "np.float_ = np.float64\n",
    "\n",
    "from prophet import Prophet\n",
    "import requests\n",
    "from datetime import datetime, timedelta\n",
    "import duckdb as db\n",
    "\n",
    "m = Prophet()\n",
    "conn = db.connect(\"file.db\")\n",
    "conn.sql(\"\"\"\n",
    "    -- y is the amount charged for the transaction\n",
    "    -- ds is the time the transaction took place\n",
    "\n",
    "    CREATE SEQUENCE seq_id START 1;\n",
    "    CREATE TABLE crypto_transfer (y INTEGER, ds DATETIME UNIQUE)\n",
    "\"\"\")"
   ]
  },
  {
   "cell_type": "code",
   "execution_count": 3,
   "metadata": {
    "metadata": {}
   },
   "outputs": [
    {
     "name": "stdout",
     "output_type": "stream",
     "text": [
      "1723997852.36885\n",
      "1723994252.36885\n",
      "[{'charged_tx_fee': 0, 'time_tx_occured': '2024-08-18T15:19:14.031572'},\n",
      " {'charged_tx_fee': 0, 'time_tx_occured': '2024-08-18T15:19:25.526270'},\n",
      " {'charged_tx_fee': 0, 'time_tx_occured': '2024-08-18T15:19:31.562108'},\n",
      " {'charged_tx_fee': 0, 'time_tx_occured': '2024-08-18T15:19:31.562108'},\n",
      " {'charged_tx_fee': 0, 'time_tx_occured': '2024-08-18T15:19:39.013899'},\n",
      " {'charged_tx_fee': 184213, 'time_tx_occured': '2024-08-18T15:19:50.728000'},\n",
      " {'charged_tx_fee': 185514, 'time_tx_occured': '2024-08-18T15:20:24.315000'},\n",
      " {'charged_tx_fee': 185514, 'time_tx_occured': '2024-08-18T15:20:24.455000'},\n",
      " {'charged_tx_fee': 185514, 'time_tx_occured': '2024-08-18T15:20:24.328000'},\n",
      " {'charged_tx_fee': 185514, 'time_tx_occured': '2024-08-18T15:20:24.437000'},\n",
      " {'charged_tx_fee': 185514, 'time_tx_occured': '2024-08-18T15:20:24.520000'},\n",
      " {'charged_tx_fee': 184213, 'time_tx_occured': '2024-08-18T15:20:26.006000'},\n",
      " {'charged_tx_fee': 184213, 'time_tx_occured': '2024-08-18T15:20:25.970000'},\n",
      " {'charged_tx_fee': 184213, 'time_tx_occured': '2024-08-18T15:20:25.992000'},\n",
      " {'charged_tx_fee': 185514, 'time_tx_occured': '2024-08-18T15:20:26.102000'},\n",
      " {'charged_tx_fee': 185514, 'time_tx_occured': '2024-08-18T15:20:26.075000'},\n",
      " {'charged_tx_fee': 185514, 'time_tx_occured': '2024-08-18T15:20:26.123000'},\n",
      " {'charged_tx_fee': 184213, 'time_tx_occured': '2024-08-18T15:20:26.807000'},\n",
      " {'charged_tx_fee': 184213, 'time_tx_occured': '2024-08-18T15:20:26.812000'},\n",
      " {'charged_tx_fee': 185514, 'time_tx_occured': '2024-08-18T15:20:26.886000'},\n",
      " {'charged_tx_fee': 185514, 'time_tx_occured': '2024-08-18T15:20:26.900000'},\n",
      " {'charged_tx_fee': 184213, 'time_tx_occured': '2024-08-18T15:20:28.597000'},\n",
      " {'charged_tx_fee': 184213, 'time_tx_occured': '2024-08-18T15:20:28.639000'},\n",
      " {'charged_tx_fee': 184213, 'time_tx_occured': '2024-08-18T15:20:28.723000'},\n",
      " {'charged_tx_fee': 185514, 'time_tx_occured': '2024-08-18T15:20:28.715000'},\n",
      " {'charged_tx_fee': 185514, 'time_tx_occured': '2024-08-18T15:20:28.663000'},\n",
      " {'charged_tx_fee': 185514, 'time_tx_occured': '2024-08-18T15:20:28.797000'},\n",
      " {'charged_tx_fee': 184213, 'time_tx_occured': '2024-08-18T15:20:29.172000'},\n",
      " {'charged_tx_fee': 185514, 'time_tx_occured': '2024-08-18T15:20:29.224000'},\n",
      " {'charged_tx_fee': 184213, 'time_tx_occured': '2024-08-18T15:20:29.274000'},\n",
      " {'charged_tx_fee': 185514, 'time_tx_occured': '2024-08-18T15:20:29.334000'},\n",
      " {'charged_tx_fee': 184213, 'time_tx_occured': '2024-08-18T15:20:30.495000'},\n",
      " {'charged_tx_fee': 184213, 'time_tx_occured': '2024-08-18T15:20:30.889000'},\n",
      " {'charged_tx_fee': 184213, 'time_tx_occured': '2024-08-18T15:20:30.963000'},\n",
      " {'charged_tx_fee': 185514, 'time_tx_occured': '2024-08-18T15:20:30.611000'},\n",
      " {'charged_tx_fee': 184213, 'time_tx_occured': '2024-08-18T15:20:30.875000'},\n",
      " {'charged_tx_fee': 185514, 'time_tx_occured': '2024-08-18T15:20:30.971000'},\n",
      " {'charged_tx_fee': 185514, 'time_tx_occured': '2024-08-18T15:20:30.948000'},\n",
      " {'charged_tx_fee': 185514, 'time_tx_occured': '2024-08-18T15:20:31.037000'},\n",
      " {'charged_tx_fee': 184213, 'time_tx_occured': '2024-08-18T15:20:31.509000'},\n",
      " {'charged_tx_fee': 185514, 'time_tx_occured': '2024-08-18T15:20:31.584000'},\n",
      " {'charged_tx_fee': 184213, 'time_tx_occured': '2024-08-18T15:20:32.247000'},\n",
      " {'charged_tx_fee': 185514, 'time_tx_occured': '2024-08-18T15:20:33.103000'},\n",
      " {'charged_tx_fee': 184213, 'time_tx_occured': '2024-08-18T15:20:33.434000'},\n",
      " {'charged_tx_fee': 184213, 'time_tx_occured': '2024-08-18T15:20:33.321000'},\n",
      " {'charged_tx_fee': 184213, 'time_tx_occured': '2024-08-18T15:20:33.446000'},\n",
      " {'charged_tx_fee': 184213, 'time_tx_occured': '2024-08-18T15:20:33.953000'},\n",
      " {'charged_tx_fee': 184213, 'time_tx_occured': '2024-08-18T15:20:35.221000'},\n",
      " {'charged_tx_fee': 185514, 'time_tx_occured': '2024-08-18T15:20:35.287000'},\n",
      " {'charged_tx_fee': 184213, 'time_tx_occured': '2024-08-18T15:20:37.326000'},\n",
      " {'charged_tx_fee': 185514, 'time_tx_occured': '2024-08-18T15:20:37.356000'},\n",
      " {'charged_tx_fee': 184213, 'time_tx_occured': '2024-08-18T15:20:39.448000'},\n",
      " {'charged_tx_fee': 185514, 'time_tx_occured': '2024-08-18T15:20:39.512000'},\n",
      " {'charged_tx_fee': 184213, 'time_tx_occured': '2024-08-18T15:20:41.715000'},\n",
      " {'charged_tx_fee': 305150, 'time_tx_occured': '2024-08-18T15:20:29.582693'},\n",
      " {'charged_tx_fee': 0, 'time_tx_occured': '2024-08-18T15:21:32.991542'},\n",
      " {'charged_tx_fee': 0, 'time_tx_occured': '2024-08-18T15:21:35.829148'},\n",
      " {'charged_tx_fee': 185514, 'time_tx_occured': '2024-08-18T15:24:20.359000'},\n",
      " {'charged_tx_fee': 185514, 'time_tx_occured': '2024-08-18T15:24:20.453000'},\n",
      " {'charged_tx_fee': 185514, 'time_tx_occured': '2024-08-18T15:24:20.371000'},\n",
      " {'charged_tx_fee': 185514, 'time_tx_occured': '2024-08-18T15:24:20.447000'},\n",
      " {'charged_tx_fee': 185514, 'time_tx_occured': '2024-08-18T15:24:20.897000'},\n",
      " {'charged_tx_fee': 184213, 'time_tx_occured': '2024-08-18T15:24:22.997000'},\n",
      " {'charged_tx_fee': 184213, 'time_tx_occured': '2024-08-18T15:24:23.193000'},\n",
      " {'charged_tx_fee': 184213, 'time_tx_occured': '2024-08-18T15:24:23.075000'},\n",
      " {'charged_tx_fee': 184213, 'time_tx_occured': '2024-08-18T15:24:23.204000'},\n",
      " {'charged_tx_fee': 184213, 'time_tx_occured': '2024-08-18T15:24:23.346000'},\n",
      " {'charged_tx_fee': 185514, 'time_tx_occured': '2024-08-18T15:24:23.064000'},\n",
      " {'charged_tx_fee': 185514, 'time_tx_occured': '2024-08-18T15:24:23.164000'},\n",
      " {'charged_tx_fee': 185514, 'time_tx_occured': '2024-08-18T15:24:23.452000'},\n",
      " {'charged_tx_fee': 185514, 'time_tx_occured': '2024-08-18T15:24:23.483000'},\n",
      " {'charged_tx_fee': 185514, 'time_tx_occured': '2024-08-18T15:24:23.643000'},\n",
      " {'charged_tx_fee': 184213, 'time_tx_occured': '2024-08-18T15:24:25.215000'},\n",
      " {'charged_tx_fee': 185514, 'time_tx_occured': '2024-08-18T15:24:25.298000'},\n",
      " {'charged_tx_fee': 184213, 'time_tx_occured': '2024-08-18T15:24:25.628000'},\n",
      " {'charged_tx_fee': 185514, 'time_tx_occured': '2024-08-18T15:24:25.676000'},\n",
      " {'charged_tx_fee': 184213, 'time_tx_occured': '2024-08-18T15:24:25.834000'},\n",
      " {'charged_tx_fee': 185514, 'time_tx_occured': '2024-08-18T15:24:25.891000'},\n",
      " {'charged_tx_fee': 184213, 'time_tx_occured': '2024-08-18T15:24:26.361000'},\n",
      " {'charged_tx_fee': 184213, 'time_tx_occured': '2024-08-18T15:24:26.432000'},\n",
      " {'charged_tx_fee': 184213, 'time_tx_occured': '2024-08-18T15:24:26.386000'},\n",
      " {'charged_tx_fee': 185514, 'time_tx_occured': '2024-08-18T15:24:26.460000'},\n",
      " {'charged_tx_fee': 185514, 'time_tx_occured': '2024-08-18T15:24:26.427000'},\n",
      " {'charged_tx_fee': 185514, 'time_tx_occured': '2024-08-18T15:24:26.504000'},\n",
      " {'charged_tx_fee': 184213, 'time_tx_occured': '2024-08-18T15:24:27.308000'},\n",
      " {'charged_tx_fee': 185514, 'time_tx_occured': '2024-08-18T15:24:27.382000'},\n",
      " {'charged_tx_fee': 184213, 'time_tx_occured': '2024-08-18T15:24:28.129000'},\n",
      " {'charged_tx_fee': 184213, 'time_tx_occured': '2024-08-18T15:24:28.619000'},\n",
      " {'charged_tx_fee': 184213, 'time_tx_occured': '2024-08-18T15:24:28.618000'},\n",
      " {'charged_tx_fee': 185514, 'time_tx_occured': '2024-08-18T15:24:28.235000'},\n",
      " {'charged_tx_fee': 184213, 'time_tx_occured': '2024-08-18T15:24:28.910000'},\n",
      " {'charged_tx_fee': 185514, 'time_tx_occured': '2024-08-18T15:24:28.703000'},\n",
      " {'charged_tx_fee': 185514, 'time_tx_occured': '2024-08-18T15:24:28.698000'},\n",
      " {'charged_tx_fee': 184213, 'time_tx_occured': '2024-08-18T15:24:29.712000'},\n",
      " {'charged_tx_fee': 185514, 'time_tx_occured': '2024-08-18T15:24:29.569000'},\n",
      " {'charged_tx_fee': 184213, 'time_tx_occured': '2024-08-18T15:24:30.924000'},\n",
      " {'charged_tx_fee': 184213, 'time_tx_occured': '2024-08-18T15:24:31.111000'},\n",
      " {'charged_tx_fee': 184213, 'time_tx_occured': '2024-08-18T15:24:31.127000'},\n",
      " {'charged_tx_fee': 184213, 'time_tx_occured': '2024-08-18T15:24:31.597000'}]\n"
     ]
    }
   ],
   "source": [
    "# Get data\n",
    "\n",
    "end_time = datetime.now()\n",
    "print(end_time.timestamp())\n",
    "start_time = (end_time - timedelta(seconds=3600.0)).timestamp()\n",
    "print(start_time)\n",
    "\n",
    "transaction_types = [\"CONTRACTCALL\", \"CRYPTOTRANSFER\"]\n",
    "\n",
    "from typing import Union\n",
    "from pprint import pprint\n",
    "\n",
    "def get_data(start_time: float | int, limit: int, transaction_type: str, order: Union[\"asc\", \"desc\"]):\n",
    "    url = f\"https://testnet.mirrornode.hedera.com/api/v1/transactions?limit={limit}&order={order}&timestamp=gte%3A{start_time}&transactiontype={transaction_type}\"\n",
    "    data = requests.get(url).json()\n",
    "    transactions = data[\"transactions\"]\n",
    "    new_transactions: list[dict | None] = []\n",
    "    for transaction in transactions:\n",
    "        new_data = {}\n",
    "        if not transaction[\"scheduled\"] and transaction[\"result\"] == \"SUCCESS\":\n",
    "            _, seconds, nanoseconds = transaction[\"transaction_id\"].split(\"-\")\n",
    "            new_data[\"charged_tx_fee\"] = transaction[\"charged_tx_fee\"]\n",
    "            new_data[\"time_tx_occured\"] = datetime.fromtimestamp(float(f\"{seconds}.{nanoseconds}\")).isoformat()\n",
    "\n",
    "            new_transactions.append(new_data)\n",
    "    return new_transactions\n",
    "\n",
    "\n",
    "transactions: list[dict | None] = get_data(start_time, 100, transaction_types[1], \"asc\")\n",
    "pprint(transactions)"
   ]
  },
  {
   "cell_type": "code",
   "execution_count": 8,
   "metadata": {
    "metadata": {}
   },
   "outputs": [],
   "source": [
    "try:\n",
    "    for transaction in transactions:\n",
    "        conn.sql(f\"\"\"\n",
    "            INSERT INTO crypto_transfer VALUES ('{transaction[\"charged_tx_fee\"]}', '{transaction[\"time_tx_occured\"]}')\n",
    "        \"\"\")\n",
    "except db.ConstraintException:\n",
    "    pass"
   ]
  },
  {
   "cell_type": "code",
   "execution_count": 9,
   "metadata": {
    "metadata": {}
   },
   "outputs": [
    {
     "name": "stdout",
     "output_type": "stream",
     "text": [
      "┌───────┬────────────────────────────┐\n",
      "│   y   │             ds             │\n",
      "│ int32 │         timestamp          │\n",
      "├───────┼────────────────────────────┤\n",
      "│     0 │ 2024-08-18 15:19:14.031572 │\n",
      "│     0 │ 2024-08-18 15:19:25.52627  │\n",
      "│     0 │ 2024-08-18 15:19:31.562108 │\n",
      "└───────┴────────────────────────────┘\n",
      "\n"
     ]
    }
   ],
   "source": [
    "conn.sql(\"\"\"\n",
    "    SELECT * FROM crypto_transfer\n",
    "\"\"\").show()"
   ]
  },
  {
   "cell_type": "code",
   "execution_count": 10,
   "metadata": {},
   "outputs": [
    {
     "data": {
      "text/html": [
       "<div>\n",
       "<style scoped>\n",
       "    .dataframe tbody tr th:only-of-type {\n",
       "        vertical-align: middle;\n",
       "    }\n",
       "\n",
       "    .dataframe tbody tr th {\n",
       "        vertical-align: top;\n",
       "    }\n",
       "\n",
       "    .dataframe thead th {\n",
       "        text-align: right;\n",
       "    }\n",
       "</style>\n",
       "<table border=\"1\" class=\"dataframe\">\n",
       "  <thead>\n",
       "    <tr style=\"text-align: right;\">\n",
       "      <th></th>\n",
       "      <th>ds</th>\n",
       "      <th>y</th>\n",
       "    </tr>\n",
       "  </thead>\n",
       "  <tbody>\n",
       "    <tr>\n",
       "      <th>0</th>\n",
       "      <td>2024-08-18 15:19:14.031572</td>\n",
       "      <td>0</td>\n",
       "    </tr>\n",
       "    <tr>\n",
       "      <th>1</th>\n",
       "      <td>2024-08-18 15:19:25.526270</td>\n",
       "      <td>0</td>\n",
       "    </tr>\n",
       "    <tr>\n",
       "      <th>2</th>\n",
       "      <td>2024-08-18 15:19:31.562108</td>\n",
       "      <td>0</td>\n",
       "    </tr>\n",
       "  </tbody>\n",
       "</table>\n",
       "</div>"
      ],
      "text/plain": [
       "                          ds  y\n",
       "0 2024-08-18 15:19:14.031572  0\n",
       "1 2024-08-18 15:19:25.526270  0\n",
       "2 2024-08-18 15:19:31.562108  0"
      ]
     },
     "execution_count": 10,
     "metadata": {},
     "output_type": "execute_result"
    }
   ],
   "source": [
    "df = conn.sql(\"\"\"\n",
    "    SELECT ds, y FROM crypto_transfer\n",
    "\"\"\").to_df()\n",
    "df.tail()"
   ]
  },
  {
   "cell_type": "code",
   "execution_count": 11,
   "metadata": {},
   "outputs": [
    {
     "name": "stderr",
     "output_type": "stream",
     "text": [
      "/home/codespace/.python/current/lib/python3.10/site-packages/prophet/forecaster.py:1854: FutureWarning: 'H' is deprecated and will be removed in a future version, please use 'h' instead.\n",
      "  dates = pd.date_range(\n"
     ]
    }
   ],
   "source": [
    "m.fit(df)\n",
    "future = m.make_future_dataframe(periods=1, freq=\"H\")"
   ]
  },
  {
   "cell_type": "code",
   "execution_count": 12,
   "metadata": {},
   "outputs": [
    {
     "data": {
      "text/html": [
       "<div>\n",
       "<style scoped>\n",
       "    .dataframe tbody tr th:only-of-type {\n",
       "        vertical-align: middle;\n",
       "    }\n",
       "\n",
       "    .dataframe tbody tr th {\n",
       "        vertical-align: top;\n",
       "    }\n",
       "\n",
       "    .dataframe thead th {\n",
       "        text-align: right;\n",
       "    }\n",
       "</style>\n",
       "<table border=\"1\" class=\"dataframe\">\n",
       "  <thead>\n",
       "    <tr style=\"text-align: right;\">\n",
       "      <th></th>\n",
       "      <th>ds</th>\n",
       "      <th>trend</th>\n",
       "      <th>yhat_lower</th>\n",
       "      <th>yhat_upper</th>\n",
       "      <th>trend_lower</th>\n",
       "      <th>trend_upper</th>\n",
       "      <th>additive_terms</th>\n",
       "      <th>additive_terms_lower</th>\n",
       "      <th>additive_terms_upper</th>\n",
       "      <th>multiplicative_terms</th>\n",
       "      <th>multiplicative_terms_lower</th>\n",
       "      <th>multiplicative_terms_upper</th>\n",
       "      <th>yhat</th>\n",
       "    </tr>\n",
       "  </thead>\n",
       "  <tbody>\n",
       "    <tr>\n",
       "      <th>0</th>\n",
       "      <td>2024-08-18 15:19:14.031572</td>\n",
       "      <td>0.0</td>\n",
       "      <td>-1.319777e-09</td>\n",
       "      <td>1.220927e-09</td>\n",
       "      <td>0.000000e+00</td>\n",
       "      <td>0.000000e+00</td>\n",
       "      <td>0.0</td>\n",
       "      <td>0.0</td>\n",
       "      <td>0.0</td>\n",
       "      <td>0.0</td>\n",
       "      <td>0.0</td>\n",
       "      <td>0.0</td>\n",
       "      <td>0.0</td>\n",
       "    </tr>\n",
       "    <tr>\n",
       "      <th>1</th>\n",
       "      <td>2024-08-18 15:19:25.526270</td>\n",
       "      <td>0.0</td>\n",
       "      <td>-1.297779e-09</td>\n",
       "      <td>1.240350e-09</td>\n",
       "      <td>0.000000e+00</td>\n",
       "      <td>0.000000e+00</td>\n",
       "      <td>0.0</td>\n",
       "      <td>0.0</td>\n",
       "      <td>0.0</td>\n",
       "      <td>0.0</td>\n",
       "      <td>0.0</td>\n",
       "      <td>0.0</td>\n",
       "      <td>0.0</td>\n",
       "    </tr>\n",
       "    <tr>\n",
       "      <th>2</th>\n",
       "      <td>2024-08-18 15:19:31.562108</td>\n",
       "      <td>0.0</td>\n",
       "      <td>-1.302658e-09</td>\n",
       "      <td>1.314165e-09</td>\n",
       "      <td>0.000000e+00</td>\n",
       "      <td>0.000000e+00</td>\n",
       "      <td>0.0</td>\n",
       "      <td>0.0</td>\n",
       "      <td>0.0</td>\n",
       "      <td>0.0</td>\n",
       "      <td>0.0</td>\n",
       "      <td>0.0</td>\n",
       "      <td>0.0</td>\n",
       "    </tr>\n",
       "    <tr>\n",
       "      <th>3</th>\n",
       "      <td>2024-08-18 16:19:31.562108</td>\n",
       "      <td>0.0</td>\n",
       "      <td>-2.436695e-09</td>\n",
       "      <td>2.429741e-09</td>\n",
       "      <td>-2.154073e-09</td>\n",
       "      <td>2.190752e-09</td>\n",
       "      <td>0.0</td>\n",
       "      <td>0.0</td>\n",
       "      <td>0.0</td>\n",
       "      <td>0.0</td>\n",
       "      <td>0.0</td>\n",
       "      <td>0.0</td>\n",
       "      <td>0.0</td>\n",
       "    </tr>\n",
       "  </tbody>\n",
       "</table>\n",
       "</div>"
      ],
      "text/plain": [
       "                          ds  trend    yhat_lower    yhat_upper   trend_lower  \\\n",
       "0 2024-08-18 15:19:14.031572    0.0 -1.319777e-09  1.220927e-09  0.000000e+00   \n",
       "1 2024-08-18 15:19:25.526270    0.0 -1.297779e-09  1.240350e-09  0.000000e+00   \n",
       "2 2024-08-18 15:19:31.562108    0.0 -1.302658e-09  1.314165e-09  0.000000e+00   \n",
       "3 2024-08-18 16:19:31.562108    0.0 -2.436695e-09  2.429741e-09 -2.154073e-09   \n",
       "\n",
       "    trend_upper  additive_terms  additive_terms_lower  additive_terms_upper  \\\n",
       "0  0.000000e+00             0.0                   0.0                   0.0   \n",
       "1  0.000000e+00             0.0                   0.0                   0.0   \n",
       "2  0.000000e+00             0.0                   0.0                   0.0   \n",
       "3  2.190752e-09             0.0                   0.0                   0.0   \n",
       "\n",
       "   multiplicative_terms  multiplicative_terms_lower  \\\n",
       "0                   0.0                         0.0   \n",
       "1                   0.0                         0.0   \n",
       "2                   0.0                         0.0   \n",
       "3                   0.0                         0.0   \n",
       "\n",
       "   multiplicative_terms_upper  yhat  \n",
       "0                         0.0   0.0  \n",
       "1                         0.0   0.0  \n",
       "2                         0.0   0.0  \n",
       "3                         0.0   0.0  "
      ]
     },
     "execution_count": 12,
     "metadata": {},
     "output_type": "execute_result"
    }
   ],
   "source": [
    "forecast = m.predict(future)\n",
    "forecast.tail()"
   ]
  },
  {
   "cell_type": "code",
   "execution_count": 13,
   "metadata": {},
   "outputs": [
    {
     "name": "stderr",
     "output_type": "stream",
     "text": [
      "/home/codespace/.python/current/lib/python3.10/site-packages/prophet/plot.py:72: FutureWarning: The behavior of DatetimeProperties.to_pydatetime is deprecated, in a future version this will return a Series containing python datetime objects instead of an ndarray. To retain the old behavior, call `np.array` on the result\n",
      "  fcst_t = fcst['ds'].dt.to_pydatetime()\n",
      "/home/codespace/.python/current/lib/python3.10/site-packages/prophet/plot.py:73: FutureWarning: The behavior of DatetimeProperties.to_pydatetime is deprecated, in a future version this will return a Series containing python datetime objects instead of an ndarray. To retain the old behavior, call `np.array` on the result\n",
      "  ax.plot(m.history['ds'].dt.to_pydatetime(), m.history['y'], 'k.',\n"
     ]
    },
    {
     "data": {
      "image/png": "[encoded data removed]",
      "text/plain": [
       "<Figure size 1000x600 with 1 Axes>"
      ]
     },
     "metadata": {},
     "output_type": "display_data"
    }
   ],
   "source": [
    "fig1 = m.plot(forecast)"
   ]
  },
  {
   "cell_type": "code",
   "execution_count": 14,
   "metadata": {},
   "outputs": [
    {
     "name": "stderr",
     "output_type": "stream",
     "text": [
      "/home/codespace/.python/current/lib/python3.10/site-packages/prophet/plot.py:228: FutureWarning: The behavior of DatetimeProperties.to_pydatetime is deprecated, in a future version this will return a Series containing python datetime objects instead of an ndarray. To retain the old behavior, call `np.array` on the result\n",
      "  fcst_t = fcst['ds'].dt.to_pydatetime()\n"
     ]
    },
    {
     "data": {
      "image/png": "[encoded data removed]",
      "text/plain": [
       "<Figure size 900x300 with 1 Axes>"
      ]
     },
     "metadata": {},
     "output_type": "display_data"
    }
   ],
   "source": [
    "fig2 = m.plot_components(forecast)"
   ]
  },
  {
   "cell_type": "code",
   "execution_count": 15,
   "metadata": {},
   "outputs": [
    {
     "data": {
      "text/html": [
       "<div>\n",
       "<style scoped>\n",
       "    .dataframe tbody tr th:only-of-type {\n",
       "        vertical-align: middle;\n",
       "    }\n",
       "\n",
       "    .dataframe tbody tr th {\n",
       "        vertical-align: top;\n",
       "    }\n",
       "\n",
       "    .dataframe thead th {\n",
       "        text-align: right;\n",
       "    }\n",
       "</style>\n",
       "<table border=\"1\" class=\"dataframe\">\n",
       "  <thead>\n",
       "    <tr style=\"text-align: right;\">\n",
       "      <th></th>\n",
       "      <th>ds</th>\n",
       "      <th>yhat</th>\n",
       "    </tr>\n",
       "  </thead>\n",
       "  <tbody>\n",
       "    <tr>\n",
       "      <th>0</th>\n",
       "      <td>2024-08-18 15:19:14.031572</td>\n",
       "      <td>0.0</td>\n",
       "    </tr>\n",
       "    <tr>\n",
       "      <th>1</th>\n",
       "      <td>2024-08-18 15:19:25.526270</td>\n",
       "      <td>0.0</td>\n",
       "    </tr>\n",
       "    <tr>\n",
       "      <th>2</th>\n",
       "      <td>2024-08-18 15:19:31.562108</td>\n",
       "      <td>0.0</td>\n",
       "    </tr>\n",
       "    <tr>\n",
       "      <th>3</th>\n",
       "      <td>2024-08-18 16:19:31.562108</td>\n",
       "      <td>0.0</td>\n",
       "    </tr>\n",
       "  </tbody>\n",
       "</table>\n",
       "</div>"
      ],
      "text/plain": [
       "                          ds  yhat\n",
       "0 2024-08-18 15:19:14.031572   0.0\n",
       "1 2024-08-18 15:19:25.526270   0.0\n",
       "2 2024-08-18 15:19:31.562108   0.0\n",
       "3 2024-08-18 16:19:31.562108   0.0"
      ]
     },
     "execution_count": 15,
     "metadata": {},
     "output_type": "execute_result"
    }
   ],
   "source": [
    "forecast[[\"ds\", \"yhat\"]].tail()"
   ]
  },
  {
   "cell_type": "code",
   "execution_count": 19,
   "metadata": {},
   "outputs": [
    {
     "data": {
      "image/png": "[encoded data removed]",
      "text/plain": [
       "<Figure size 640x480 with 1 Axes>"
      ]
     },
     "metadata": {},
     "output_type": "display_data"
    }
   ],
   "source": [
    "fig3 = forecast[[\"ds\", \"yhat\"]].plot.bar()"
   ]
  },
  {
   "cell_type": "code",
   "execution_count": 16,
   "metadata": {},
   "outputs": [
    {
     "name": "stdout",
     "output_type": "stream",
     "text": [
      "{'ds': {0: Timestamp('2024-08-18 15:19:14.031572'),\n",
      "        1: Timestamp('2024-08-18 15:19:25.526270'),\n",
      "        2: Timestamp('2024-08-18 15:19:31.562108'),\n",
      "        3: Timestamp('2024-08-18 16:19:31.562108')},\n",
      " 'yhat': {0: 0.0, 1: 0.0, 2: 0.0, 3: 0.0}}\n"
     ]
    }
   ],
   "source": [
    "forecast_dict = forecast[[\"ds\", \"yhat\"]].to_dict()\n",
    "pprint(forecast_dict)"
   ]
  },
  {
   "cell_type": "code",
   "execution_count": 17,
   "metadata": {},
   "outputs": [
    {
     "name": "stdout",
     "output_type": "stream",
     "text": [
      "{'created_at': datetime.datetime(2024, 8, 18, 16, 18, 49, 978233),\n",
      " 'id': 'predict-1723994354.031572-1723997971.562108',\n",
      " 'x': ['2024-08-18 15:19:14.031572',\n",
      "       '2024-08-18 15:19:25.526270',\n",
      "       '2024-08-18 15:19:31.562108',\n",
      "       '2024-08-18 16:19:31.562108'],\n",
      " 'y': [0.0, 0.0, 0.0, 0.0]}\n"
     ]
    }
   ],
   "source": [
    "new_data = {\"x\": [], \"y\": []}\n",
    "\n",
    "ds = forecast_dict[\"ds\"]\n",
    "y = forecast_dict[\"yhat\"]\n",
    "for value in ds.values():\n",
    "    new_data[\"x\"].append(str(value))\n",
    "for value in y.values():\n",
    "    new_data[\"y\"].append(value)\n",
    "\n",
    "id = \"\".join([\"predict-\", str(datetime.fromisoformat(new_data[\"x\"][0]).timestamp()), \"-\", str(datetime.fromisoformat(new_data[\"x\"][-1]).timestamp())])\n",
    "new_data[\"id\"] = id\n",
    "new_data[\"created_at\"] = datetime.now()\n",
    "\n",
    "pprint(new_data)"
   ]
  },
  {
   "cell_type": "code",
   "execution_count": null,
   "metadata": {},
   "outputs": [],
   "source": []
  }
 ],
 "metadata": {
  "kernelspec": {
   "display_name": "Python 3",
   "language": "python",
   "name": "python3"
  },
  "language_info": {
   "codemirror_mode": {
    "name": "ipython",
    "version": 3
   },
   "file_extension": ".py",
   "mimetype": "text/x-python",
   "name": "python",
   "nbconvert_exporter": "python",
   "pygments_lexer": "ipython3",
   "version": "3.10.13"
  }
 },
 "nbformat": 4,
 "nbformat_minor": 2
}
