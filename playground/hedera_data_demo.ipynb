{
 "cells": [
  {
   "cell_type": "code",
   "execution_count": 1,
   "metadata": {
    "metadata": {}
   },
   "outputs": [
    {
     "name": "stderr",
     "output_type": "stream",
     "text": [
      "/home/codespace/.python/current/lib/python3.10/site-packages/tqdm/auto.py:21: TqdmWarning: IProgress not found. Please update jupyter and ipywidgets. See https://ipywidgets.readthedocs.io/en/stable/user_install.html\n",
      "  from .autonotebook import tqdm as notebook_tqdm\n"
     ]
    }
   ],
   "source": [
    "import pandas as pd\n",
    "import numpy as np\n",
    "\n",
    "np.float_ = np.float64\n",
    "\n",
    "from prophet import Prophet\n",
    "import requests\n",
    "from datetime import datetime, timedelta\n",
    "import duckdb as db\n",
    "\n",
    "m = Prophet()\n",
    "conn = db.connect(\"file.db\")\n",
    "conn.sql(\"\"\"\n",
    "    CREATE SEQUENCE seq_id START 1;\n",
    "    CREATE TABLE contract_call (id INTEGER NOT NULL PRIMARY KEY, charged_tx_fee INTEGER, time_tx_occured STRING)\n",
    "\"\"\")"
   ]
  },
  {
   "cell_type": "code",
   "execution_count": 4,
   "metadata": {
    "metadata": {}
   },
   "outputs": [
    {
     "name": "stdout",
     "output_type": "stream",
     "text": [
      "1723976482.998212\n",
      "1723972882.998212\n",
      "[{'charged_tx_fee': 130400000, 'time_tx_occured': '2024-08-18T09:36:40.882090'},\n",
      " {'charged_tx_fee': 521600000, 'time_tx_occured': '2024-08-18T09:51:48.407779'},\n",
      " {'charged_tx_fee': 130400000, 'time_tx_occured': '2024-08-18T09:54:20.483274'},\n",
      " {'charged_tx_fee': 521600000, 'time_tx_occured': '2024-08-18T09:54:29.045515'},\n",
      " {'charged_tx_fee': 521600000, 'time_tx_occured': '2024-08-18T09:54:31.292564'},\n",
      " {'charged_tx_fee': 130400000, 'time_tx_occured': '2024-08-18T09:55:48.866523'},\n",
      " {'charged_tx_fee': 130400000, 'time_tx_occured': '2024-08-18T09:57:23.039107'},\n",
      " {'charged_tx_fee': 130400000, 'time_tx_occured': '2024-08-18T09:57:54.725575'},\n",
      " {'charged_tx_fee': 130400000, 'time_tx_occured': '2024-08-18T09:59:43.452545'},\n",
      " {'charged_tx_fee': 129600000, 'time_tx_occured': '2024-08-18T10:00:34.073437'},\n",
      " {'charged_tx_fee': 129600000, 'time_tx_occured': '2024-08-18T10:17:51.027050'}]\n"
     ]
    }
   ],
   "source": [
    "# Get data\n",
    "\n",
    "end_time = datetime.now()\n",
    "print(end_time.timestamp())\n",
    "start_time = (end_time - timedelta(seconds=3600.0)).timestamp()\n",
    "print(start_time)\n",
    "\n",
    "transaction_types = [\"CONTRACTCALL\"]\n",
    "\n",
    "from typing import Union\n",
    "from pprint import pprint\n",
    "from uuid import uuid4\n",
    "\n",
    "def get_data(start_time: float | int, limit: int, transaction_type: str, order: Union[\"asc\", \"desc\"]):\n",
    "    url = f\"https://testnet.mirrornode.hedera.com/api/v1/transactions?limit={limit}&order={order}&timestamp=gte%3A{start_time}&transactiontype={transaction_type}\"\n",
    "    data = requests.get(url).json()\n",
    "    transactions = data[\"transactions\"]\n",
    "    new_transactions: list[dict | None] = []\n",
    "    for transaction in transactions:\n",
    "        new_data = {}\n",
    "        if not transaction[\"scheduled\"] and transaction[\"result\"] == \"SUCCESS\":\n",
    "            _, seconds, nanoseconds = transaction[\"transaction_id\"].split(\"-\")\n",
    "            # new_data[\"id\"] = str(uuid4())\n",
    "            new_data[\"charged_tx_fee\"] = transaction[\"charged_tx_fee\"]\n",
    "            new_data[\"time_tx_occured\"] = datetime.fromtimestamp(float(f\"{seconds}.{nanoseconds}\")).isoformat()\n",
    "\n",
    "            new_transactions.append(new_data)\n",
    "    return new_transactions\n",
    "\n",
    "\n",
    "transactions: list[dict | None] = get_data(start_time, 100, transaction_types[0], \"asc\")\n",
    "pprint(transactions)"
   ]
  },
  {
   "cell_type": "code",
   "execution_count": 5,
   "metadata": {
    "metadata": {}
   },
   "outputs": [
    {
     "ename": "ParserException",
     "evalue": "Parser Error: syntax error at or near \"T09\"",
     "output_type": "error",
     "traceback": [
      "\u001b[0;31m---------------------------------------------------------------------------\u001b[0m",
      "\u001b[0;31mParserException\u001b[0m                           Traceback (most recent call last)",
      "Cell \u001b[0;32mIn[5], line 2\u001b[0m\n\u001b[1;32m      1\u001b[0m \u001b[38;5;28;01mfor\u001b[39;00m transaction \u001b[38;5;129;01min\u001b[39;00m transactions:\n\u001b[0;32m----> 2\u001b[0m     \u001b[43mconn\u001b[49m\u001b[38;5;241;43m.\u001b[39;49m\u001b[43msql\u001b[49m\u001b[43m(\u001b[49m\u001b[38;5;124;43mf\u001b[39;49m\u001b[38;5;124;43m\"\"\"\u001b[39;49m\n\u001b[1;32m      3\u001b[0m \u001b[38;5;124;43m        INSERT INTO contract_call VALUES (NEXTVAL(\u001b[39;49m\u001b[38;5;124;43m'\u001b[39;49m\u001b[38;5;124;43mseq_id\u001b[39;49m\u001b[38;5;124;43m'\u001b[39;49m\u001b[38;5;124;43m), \u001b[39;49m\u001b[38;5;132;43;01m{\u001b[39;49;00m\u001b[43mtransaction\u001b[49m\u001b[43m[\u001b[49m\u001b[38;5;124;43m\"\u001b[39;49m\u001b[38;5;124;43mcharged_tx_fee\u001b[39;49m\u001b[38;5;124;43m\"\u001b[39;49m\u001b[43m]\u001b[49m\u001b[38;5;132;43;01m}\u001b[39;49;00m\u001b[38;5;124;43m, \u001b[39;49m\u001b[38;5;132;43;01m{\u001b[39;49;00m\u001b[43mtransaction\u001b[49m\u001b[43m[\u001b[49m\u001b[38;5;124;43m\"\u001b[39;49m\u001b[38;5;124;43mtime_tx_occured\u001b[39;49m\u001b[38;5;124;43m\"\u001b[39;49m\u001b[43m]\u001b[49m\u001b[38;5;132;43;01m}\u001b[39;49;00m\u001b[38;5;124;43m)\u001b[39;49m\n\u001b[1;32m      4\u001b[0m \u001b[38;5;124;43m    \u001b[39;49m\u001b[38;5;124;43m\"\"\"\u001b[39;49m\u001b[43m)\u001b[49m\n\u001b[1;32m      6\u001b[0m db\u001b[38;5;241m.\u001b[39msql(\u001b[38;5;124m\"\"\"\u001b[39m\n\u001b[1;32m      7\u001b[0m \u001b[38;5;124m    SELECT * FROM contract_call\u001b[39m\n\u001b[1;32m      8\u001b[0m \u001b[38;5;124m\"\"\"\u001b[39m)\n",
      "\u001b[0;31mParserException\u001b[0m: Parser Error: syntax error at or near \"T09\""
     ]
    }
   ],
   "source": [
    "for transaction in transactions:\n",
    "    conn.sql(f\"\"\"\n",
    "        INSERT INTO contract_call VALUES (NEXTVAL('seq_id'), {transaction[\"charged_tx_fee\"]}, {transaction[\"time_tx_occured\"]})\n",
    "    \"\"\")\n",
    "\n",
    "db.sql(\"\"\"\n",
    "    SELECT * FROM contract_call\n",
    "\"\"\")"
   ]
  },
  {
   "cell_type": "code",
   "execution_count": 63,
   "metadata": {
    "metadata": {}
   },
   "outputs": [
    {
     "data": {
      "text/html": [
       "<div>\n",
       "<style scoped>\n",
       "    .dataframe tbody tr th:only-of-type {\n",
       "        vertical-align: middle;\n",
       "    }\n",
       "\n",
       "    .dataframe tbody tr th {\n",
       "        vertical-align: top;\n",
       "    }\n",
       "\n",
       "    .dataframe thead th {\n",
       "        text-align: right;\n",
       "    }\n",
       "</style>\n",
       "<table border=\"1\" class=\"dataframe\">\n",
       "  <thead>\n",
       "    <tr style=\"text-align: right;\">\n",
       "      <th></th>\n",
       "      <th>charged_tx_fee</th>\n",
       "      <th>result</th>\n",
       "      <th>scheduled</th>\n",
       "      <th>transaction_id</th>\n",
       "      <th>transfers</th>\n",
       "    </tr>\n",
       "  </thead>\n",
       "  <tbody>\n",
       "    <tr>\n",
       "      <th>26</th>\n",
       "      <td>158400000</td>\n",
       "      <td>SUCCESS</td>\n",
       "      <td>False</td>\n",
       "      <td>0.0.2119-1723892758-084217830</td>\n",
       "      <td>[{'account': '0.0.98', 'amount': 158400000, 'i...</td>\n",
       "    </tr>\n",
       "    <tr>\n",
       "      <th>27</th>\n",
       "      <td>0</td>\n",
       "      <td>SUCCESS</td>\n",
       "      <td>False</td>\n",
       "      <td>0.0.2119-1723892758-084217830</td>\n",
       "      <td>[]</td>\n",
       "    </tr>\n",
       "    <tr>\n",
       "      <th>28</th>\n",
       "      <td>0</td>\n",
       "      <td>SUCCESS</td>\n",
       "      <td>False</td>\n",
       "      <td>0.0.2119-1723892758-084217830</td>\n",
       "      <td>[]</td>\n",
       "    </tr>\n",
       "    <tr>\n",
       "      <th>29</th>\n",
       "      <td>0</td>\n",
       "      <td>SUCCESS</td>\n",
       "      <td>False</td>\n",
       "      <td>0.0.2119-1723892758-084217830</td>\n",
       "      <td>[]</td>\n",
       "    </tr>\n",
       "    <tr>\n",
       "      <th>30</th>\n",
       "      <td>0</td>\n",
       "      <td>SUCCESS</td>\n",
       "      <td>False</td>\n",
       "      <td>0.0.2119-1723892758-084217830</td>\n",
       "      <td>[]</td>\n",
       "    </tr>\n",
       "  </tbody>\n",
       "</table>\n",
       "</div>"
      ],
      "text/plain": [
       "    charged_tx_fee   result  scheduled                 transaction_id  \\\n",
       "26       158400000  SUCCESS      False  0.0.2119-1723892758-084217830   \n",
       "27               0  SUCCESS      False  0.0.2119-1723892758-084217830   \n",
       "28               0  SUCCESS      False  0.0.2119-1723892758-084217830   \n",
       "29               0  SUCCESS      False  0.0.2119-1723892758-084217830   \n",
       "30               0  SUCCESS      False  0.0.2119-1723892758-084217830   \n",
       "\n",
       "                                            transfers  \n",
       "26  [{'account': '0.0.98', 'amount': 158400000, 'i...  \n",
       "27                                                 []  \n",
       "28                                                 []  \n",
       "29                                                 []  \n",
       "30                                                 []  "
      ]
     },
     "execution_count": 63,
     "metadata": {},
     "output_type": "execute_result"
    }
   ],
   "source": [
    "new_df = df.drop([\"bytes\", \"entity_id\", \"max_fee\", \"memo_base64\", \"name\", \"node\", \"nonce\", \"parent_consensus_timestamp\", \"consensus_timestamp\", \"transaction_hash\", \"valid_duration_seconds\", \"valid_start_timestamp\", \"nft_transfers\", \"token_transfers\", \"staking_reward_transfers\"], axis=\"columns\")\n",
    "new_df.tail()"
   ]
  },
  {
   "cell_type": "code",
   "execution_count": 71,
   "metadata": {},
   "outputs": [
    {
     "data": {
      "text/html": [
       "<div>\n",
       "<style scoped>\n",
       "    .dataframe tbody tr th:only-of-type {\n",
       "        vertical-align: middle;\n",
       "    }\n",
       "\n",
       "    .dataframe tbody tr th {\n",
       "        vertical-align: top;\n",
       "    }\n",
       "\n",
       "    .dataframe thead th {\n",
       "        text-align: right;\n",
       "    }\n",
       "</style>\n",
       "<table border=\"1\" class=\"dataframe\">\n",
       "  <thead>\n",
       "    <tr style=\"text-align: right;\">\n",
       "      <th></th>\n",
       "      <th>charged_tx_fee</th>\n",
       "      <th>result</th>\n",
       "      <th>scheduled</th>\n",
       "      <th>transaction_id</th>\n",
       "      <th>transfers</th>\n",
       "    </tr>\n",
       "  </thead>\n",
       "  <tbody>\n",
       "    <tr>\n",
       "      <th>0</th>\n",
       "      <td>0</td>\n",
       "      <td>REVERTED_SUCCESS</td>\n",
       "      <td>False</td>\n",
       "      <td>0.0.902-1723889449-455599807</td>\n",
       "      <td>[]</td>\n",
       "    </tr>\n",
       "    <tr>\n",
       "      <th>1</th>\n",
       "      <td>0</td>\n",
       "      <td>REVERTED_SUCCESS</td>\n",
       "      <td>False</td>\n",
       "      <td>0.0.902-1723889449-455599807</td>\n",
       "      <td>[]</td>\n",
       "    </tr>\n",
       "    <tr>\n",
       "      <th>2</th>\n",
       "      <td>0</td>\n",
       "      <td>REVERTED_SUCCESS</td>\n",
       "      <td>False</td>\n",
       "      <td>0.0.902-1723889449-455599807</td>\n",
       "      <td>[]</td>\n",
       "    </tr>\n",
       "    <tr>\n",
       "      <th>3</th>\n",
       "      <td>0</td>\n",
       "      <td>REVERTED_SUCCESS</td>\n",
       "      <td>False</td>\n",
       "      <td>0.0.902-1723889516-033567002</td>\n",
       "      <td>[]</td>\n",
       "    </tr>\n",
       "    <tr>\n",
       "      <th>4</th>\n",
       "      <td>0</td>\n",
       "      <td>REVERTED_SUCCESS</td>\n",
       "      <td>False</td>\n",
       "      <td>0.0.902-1723890066-690469977</td>\n",
       "      <td>[]</td>\n",
       "    </tr>\n",
       "  </tbody>\n",
       "</table>\n",
       "</div>"
      ],
      "text/plain": [
       "   charged_tx_fee            result  scheduled                transaction_id  \\\n",
       "0               0  REVERTED_SUCCESS      False  0.0.902-1723889449-455599807   \n",
       "1               0  REVERTED_SUCCESS      False  0.0.902-1723889449-455599807   \n",
       "2               0  REVERTED_SUCCESS      False  0.0.902-1723889449-455599807   \n",
       "3               0  REVERTED_SUCCESS      False  0.0.902-1723889516-033567002   \n",
       "4               0  REVERTED_SUCCESS      False  0.0.902-1723890066-690469977   \n",
       "\n",
       "  transfers  \n",
       "0        []  \n",
       "1        []  \n",
       "2        []  \n",
       "3        []  \n",
       "4        []  "
      ]
     },
     "execution_count": 71,
     "metadata": {},
     "output_type": "execute_result"
    }
   ],
   "source": [
    "new_df.head()"
   ]
  },
  {
   "cell_type": "code",
   "execution_count": 70,
   "metadata": {
    "metadata": {}
   },
   "outputs": [
    {
     "ename": "TypeError",
     "evalue": "charged_tx_fee has non list value g for path 4. Must be list or null.",
     "output_type": "error",
     "traceback": [
      "\u001b[0;31m---------------------------------------------------------------------------\u001b[0m",
      "\u001b[0;31mTypeError\u001b[0m                                 Traceback (most recent call last)",
      "Cell \u001b[0;32mIn[70], line 1\u001b[0m\n\u001b[0;32m----> 1\u001b[0m \u001b[43mpd\u001b[49m\u001b[38;5;241;43m.\u001b[39;49m\u001b[43mjson_normalize\u001b[49m\u001b[43m(\u001b[49m\u001b[43mnew_df\u001b[49m\u001b[43m,\u001b[49m\u001b[43m \u001b[49m\u001b[43mrecord_path\u001b[49m\u001b[38;5;241;43m=\u001b[39;49m\u001b[43m[\u001b[49m\u001b[38;5;241;43m4\u001b[39;49m\u001b[43m]\u001b[49m\u001b[43m,\u001b[49m\u001b[43m \u001b[49m\u001b[43mmeta\u001b[49m\u001b[38;5;241;43m=\u001b[39;49m\u001b[43m[\u001b[49m\u001b[38;5;124;43m\"\u001b[39;49m\u001b[38;5;124;43mcharged_tx_fee\u001b[39;49m\u001b[38;5;124;43m\"\u001b[39;49m\u001b[43m,\u001b[49m\u001b[43m \u001b[49m\u001b[38;5;124;43m\"\u001b[39;49m\u001b[38;5;124;43mresult\u001b[39;49m\u001b[38;5;124;43m\"\u001b[39;49m\u001b[43m,\u001b[49m\u001b[43m \u001b[49m\u001b[38;5;124;43m\"\u001b[39;49m\u001b[38;5;124;43mscheduled\u001b[39;49m\u001b[38;5;124;43m\"\u001b[39;49m\u001b[43m,\u001b[49m\u001b[43m \u001b[49m\u001b[38;5;124;43m\"\u001b[39;49m\u001b[38;5;124;43mtransaction_id\u001b[39;49m\u001b[38;5;124;43m\"\u001b[39;49m\u001b[43m,\u001b[49m\u001b[43m \u001b[49m\u001b[38;5;124;43m\"\u001b[39;49m\u001b[38;5;124;43mtransfers\u001b[39;49m\u001b[38;5;124;43m\"\u001b[39;49m\u001b[43m]\u001b[49m\u001b[43m)\u001b[49m\n",
      "File \u001b[0;32m/workspace/.pyenv_mirror/user/current/lib/python3.12/site-packages/pandas/io/json/_normalize.py:517\u001b[0m, in \u001b[0;36mjson_normalize\u001b[0;34m(data, record_path, meta, meta_prefix, record_prefix, errors, sep, max_level)\u001b[0m\n\u001b[1;32m    514\u001b[0m                 meta_vals[key]\u001b[38;5;241m.\u001b[39mappend(meta_val)\n\u001b[1;32m    515\u001b[0m             records\u001b[38;5;241m.\u001b[39mextend(recs)\n\u001b[0;32m--> 517\u001b[0m \u001b[43m_recursive_extract\u001b[49m\u001b[43m(\u001b[49m\u001b[43mdata\u001b[49m\u001b[43m,\u001b[49m\u001b[43m \u001b[49m\u001b[43mrecord_path\u001b[49m\u001b[43m,\u001b[49m\u001b[43m \u001b[49m\u001b[43m{\u001b[49m\u001b[43m}\u001b[49m\u001b[43m,\u001b[49m\u001b[43m \u001b[49m\u001b[43mlevel\u001b[49m\u001b[38;5;241;43m=\u001b[39;49m\u001b[38;5;241;43m0\u001b[39;49m\u001b[43m)\u001b[49m\n\u001b[1;32m    519\u001b[0m result \u001b[38;5;241m=\u001b[39m DataFrame(records)\n\u001b[1;32m    521\u001b[0m \u001b[38;5;28;01mif\u001b[39;00m record_prefix \u001b[38;5;129;01mis\u001b[39;00m \u001b[38;5;129;01mnot\u001b[39;00m \u001b[38;5;28;01mNone\u001b[39;00m:\n",
      "File \u001b[0;32m/workspace/.pyenv_mirror/user/current/lib/python3.12/site-packages/pandas/io/json/_normalize.py:499\u001b[0m, in \u001b[0;36mjson_normalize.<locals>._recursive_extract\u001b[0;34m(data, path, seen_meta, level)\u001b[0m\n\u001b[1;32m    497\u001b[0m \u001b[38;5;28;01melse\u001b[39;00m:\n\u001b[1;32m    498\u001b[0m     \u001b[38;5;28;01mfor\u001b[39;00m obj \u001b[38;5;129;01min\u001b[39;00m data:\n\u001b[0;32m--> 499\u001b[0m         recs \u001b[38;5;241m=\u001b[39m \u001b[43m_pull_records\u001b[49m\u001b[43m(\u001b[49m\u001b[43mobj\u001b[49m\u001b[43m,\u001b[49m\u001b[43m \u001b[49m\u001b[43mpath\u001b[49m\u001b[43m[\u001b[49m\u001b[38;5;241;43m0\u001b[39;49m\u001b[43m]\u001b[49m\u001b[43m)\u001b[49m\n\u001b[1;32m    500\u001b[0m         recs \u001b[38;5;241m=\u001b[39m [\n\u001b[1;32m    501\u001b[0m             nested_to_record(r, sep\u001b[38;5;241m=\u001b[39msep, max_level\u001b[38;5;241m=\u001b[39mmax_level)\n\u001b[1;32m    502\u001b[0m             \u001b[38;5;28;01mif\u001b[39;00m \u001b[38;5;28misinstance\u001b[39m(r, \u001b[38;5;28mdict\u001b[39m)\n\u001b[1;32m    503\u001b[0m             \u001b[38;5;28;01melse\u001b[39;00m r\n\u001b[1;32m    504\u001b[0m             \u001b[38;5;28;01mfor\u001b[39;00m r \u001b[38;5;129;01min\u001b[39;00m recs\n\u001b[1;32m    505\u001b[0m         ]\n\u001b[1;32m    507\u001b[0m         \u001b[38;5;66;03m# For repeating the metadata later\u001b[39;00m\n",
      "File \u001b[0;32m/workspace/.pyenv_mirror/user/current/lib/python3.12/site-packages/pandas/io/json/_normalize.py:429\u001b[0m, in \u001b[0;36mjson_normalize.<locals>._pull_records\u001b[0;34m(js, spec)\u001b[0m\n\u001b[1;32m    427\u001b[0m         result \u001b[38;5;241m=\u001b[39m []\n\u001b[1;32m    428\u001b[0m     \u001b[38;5;28;01melse\u001b[39;00m:\n\u001b[0;32m--> 429\u001b[0m         \u001b[38;5;28;01mraise\u001b[39;00m \u001b[38;5;167;01mTypeError\u001b[39;00m(\n\u001b[1;32m    430\u001b[0m             \u001b[38;5;124mf\u001b[39m\u001b[38;5;124m\"\u001b[39m\u001b[38;5;132;01m{\u001b[39;00mjs\u001b[38;5;132;01m}\u001b[39;00m\u001b[38;5;124m has non list value \u001b[39m\u001b[38;5;132;01m{\u001b[39;00mresult\u001b[38;5;132;01m}\u001b[39;00m\u001b[38;5;124m for path \u001b[39m\u001b[38;5;132;01m{\u001b[39;00mspec\u001b[38;5;132;01m}\u001b[39;00m\u001b[38;5;124m. \u001b[39m\u001b[38;5;124m\"\u001b[39m\n\u001b[1;32m    431\u001b[0m             \u001b[38;5;124m\"\u001b[39m\u001b[38;5;124mMust be list or null.\u001b[39m\u001b[38;5;124m\"\u001b[39m\n\u001b[1;32m    432\u001b[0m         )\n\u001b[1;32m    433\u001b[0m \u001b[38;5;28;01mreturn\u001b[39;00m result\n",
      "\u001b[0;31mTypeError\u001b[0m: charged_tx_fee has non list value g for path 4. Must be list or null."
     ]
    }
   ],
   "source": [
    "pd.json_normalize(new_df, record_path=[4], meta=[\"charged_tx_fee\", \"result\", \"scheduled\", \"transaction_id\", \"transfers\"])"
   ]
  },
  {
   "cell_type": "code",
   "execution_count": null,
   "metadata": {},
   "outputs": [],
   "source": []
  }
 ],
 "metadata": {
  "kernelspec": {
   "display_name": "Python 3",
   "language": "python",
   "name": "python3"
  },
  "language_info": {
   "codemirror_mode": {
    "name": "ipython",
    "version": 3
   },
   "file_extension": ".py",
   "mimetype": "text/x-python",
   "name": "python",
   "nbconvert_exporter": "python",
   "pygments_lexer": "ipython3",
   "version": "3.10.13"
  }
 },
 "nbformat": 4,
 "nbformat_minor": 2
}
