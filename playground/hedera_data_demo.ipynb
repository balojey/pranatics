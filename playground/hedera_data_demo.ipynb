{
 "cells": [
  {
   "cell_type": "code",
   "execution_count": 1,
   "metadata": {
    "metadata": {}
   },
   "outputs": [
    {
     "name": "stderr",
     "output_type": "stream",
     "text": [
      "/home/codespace/.python/current/lib/python3.10/site-packages/tqdm/auto.py:21: TqdmWarning: IProgress not found. Please update jupyter and ipywidgets. See https://ipywidgets.readthedocs.io/en/stable/user_install.html\n",
      "  from .autonotebook import tqdm as notebook_tqdm\n"
     ]
    }
   ],
   "source": [
    "import pandas as pd\n",
    "import numpy as np\n",
    "\n",
    "np.float_ = np.float64\n",
    "\n",
    "from prophet import Prophet\n",
    "import requests\n",
    "from datetime import datetime, timedelta\n",
    "import duckdb as db\n",
    "\n",
    "m = Prophet()\n",
    "conn = db.connect(\"file.db\")\n",
    "conn.sql(\"\"\"\n",
    "    CREATE SEQUENCE seq_id START 1;\n",
    "    CREATE TABLE contract_call (y INTEGER, ds DATETIME UNIQUE)\n",
    "\"\"\")"
   ]
  },
  {
   "cell_type": "code",
   "execution_count": 2,
   "metadata": {
    "metadata": {}
   },
   "outputs": [
    {
     "name": "stdout",
     "output_type": "stream",
     "text": [
      "1723991326.134706\n",
      "1723987726.134706\n",
      "[{'charged_tx_fee': 12720000, 'time_tx_occured': '2024-08-18T13:32:35.928693'},\n",
      " {'charged_tx_fee': 12720000, 'time_tx_occured': '2024-08-18T13:34:41.512255'},\n",
      " {'charged_tx_fee': 127200000, 'time_tx_occured': '2024-08-18T13:34:48.718056'}]\n"
     ]
    }
   ],
   "source": [
    "# Get data\n",
    "\n",
    "end_time = datetime.now()\n",
    "print(end_time.timestamp())\n",
    "start_time = (end_time - timedelta(seconds=3600.0)).timestamp()\n",
    "print(start_time)\n",
    "\n",
    "transaction_types = [\"CONTRACTCALL\"]\n",
    "\n",
    "from typing import Union\n",
    "from pprint import pprint\n",
    "\n",
    "def get_data(start_time: float | int, limit: int, transaction_type: str, order: Union[\"asc\", \"desc\"]):\n",
    "    url = f\"https://testnet.mirrornode.hedera.com/api/v1/transactions?limit={limit}&order={order}&timestamp=gte%3A{start_time}&transactiontype={transaction_type}\"\n",
    "    data = requests.get(url).json()\n",
    "    transactions = data[\"transactions\"]\n",
    "    new_transactions: list[dict | None] = []\n",
    "    for transaction in transactions:\n",
    "        new_data = {}\n",
    "        if not transaction[\"scheduled\"] and transaction[\"result\"] == \"SUCCESS\":\n",
    "            _, seconds, nanoseconds = transaction[\"transaction_id\"].split(\"-\")\n",
    "            # new_data[\"id\"] = transaction[\"transaction_id\"]\n",
    "            new_data[\"charged_tx_fee\"] = transaction[\"charged_tx_fee\"]\n",
    "            new_data[\"time_tx_occured\"] = datetime.fromtimestamp(float(f\"{seconds}.{nanoseconds}\")).isoformat()\n",
    "\n",
    "            new_transactions.append(new_data)\n",
    "    return new_transactions\n",
    "\n",
    "\n",
    "transactions: list[dict | None] = get_data(start_time, 100, transaction_types[0], \"asc\")\n",
    "pprint(transactions)"
   ]
  },
  {
   "cell_type": "code",
   "execution_count": 3,
   "metadata": {
    "metadata": {}
   },
   "outputs": [],
   "source": [
    "try:\n",
    "    for transaction in transactions:\n",
    "        conn.sql(f\"\"\"\n",
    "            INSERT INTO contract_call VALUES ('{transaction[\"charged_tx_fee\"]}', '{transaction[\"time_tx_occured\"]}')\n",
    "        \"\"\")\n",
    "except db.ConstraintException:\n",
    "    pass"
   ]
  },
  {
   "cell_type": "code",
   "execution_count": 4,
   "metadata": {
    "metadata": {}
   },
   "outputs": [
    {
     "name": "stdout",
     "output_type": "stream",
     "text": [
      "┌───────────┬────────────────────────────┐\n",
      "│     y     │             ds             │\n",
      "│   int32   │         timestamp          │\n",
      "├───────────┼────────────────────────────┤\n",
      "│  12720000 │ 2024-08-18 13:32:35.928693 │\n",
      "│  12720000 │ 2024-08-18 13:34:41.512255 │\n",
      "│ 127200000 │ 2024-08-18 13:34:48.718056 │\n",
      "└───────────┴────────────────────────────┘\n",
      "\n"
     ]
    }
   ],
   "source": [
    "conn.sql(\"\"\"\n",
    "    SELECT * FROM contract_call\n",
    "\"\"\").show()"
   ]
  },
  {
   "cell_type": "code",
   "execution_count": 5,
   "metadata": {},
   "outputs": [
    {
     "data": {
      "text/html": [
       "<div>\n",
       "<style scoped>\n",
       "    .dataframe tbody tr th:only-of-type {\n",
       "        vertical-align: middle;\n",
       "    }\n",
       "\n",
       "    .dataframe tbody tr th {\n",
       "        vertical-align: top;\n",
       "    }\n",
       "\n",
       "    .dataframe thead th {\n",
       "        text-align: right;\n",
       "    }\n",
       "</style>\n",
       "<table border=\"1\" class=\"dataframe\">\n",
       "  <thead>\n",
       "    <tr style=\"text-align: right;\">\n",
       "      <th></th>\n",
       "      <th>y</th>\n",
       "      <th>ds</th>\n",
       "    </tr>\n",
       "  </thead>\n",
       "  <tbody>\n",
       "    <tr>\n",
       "      <th>0</th>\n",
       "      <td>12720000</td>\n",
       "      <td>2024-08-18 13:32:35.928693</td>\n",
       "    </tr>\n",
       "    <tr>\n",
       "      <th>1</th>\n",
       "      <td>12720000</td>\n",
       "      <td>2024-08-18 13:34:41.512255</td>\n",
       "    </tr>\n",
       "    <tr>\n",
       "      <th>2</th>\n",
       "      <td>127200000</td>\n",
       "      <td>2024-08-18 13:34:48.718056</td>\n",
       "    </tr>\n",
       "  </tbody>\n",
       "</table>\n",
       "</div>"
      ],
      "text/plain": [
       "           y                         ds\n",
       "0   12720000 2024-08-18 13:32:35.928693\n",
       "1   12720000 2024-08-18 13:34:41.512255\n",
       "2  127200000 2024-08-18 13:34:48.718056"
      ]
     },
     "execution_count": 5,
     "metadata": {},
     "output_type": "execute_result"
    }
   ],
   "source": [
    "df = conn.sql(\"\"\"\n",
    "    SELECT * FROM contract_call\n",
    "\"\"\").to_df()\n",
    "df.head()"
   ]
  },
  {
   "cell_type": "code",
   "execution_count": 6,
   "metadata": {},
   "outputs": [
    {
     "name": "stderr",
     "output_type": "stream",
     "text": [
      "14:28:46 - cmdstanpy - INFO - Chain [1] start processing\n",
      "14:28:46 - cmdstanpy - INFO - Chain [1] done processing\n",
      "/home/codespace/.python/current/lib/python3.10/site-packages/prophet/forecaster.py:1854: FutureWarning: 'H' is deprecated and will be removed in a future version, please use 'h' instead.\n",
      "  dates = pd.date_range(\n"
     ]
    }
   ],
   "source": [
    "m.fit(df)\n",
    "future = m.make_future_dataframe(periods=1, freq=\"H\")"
   ]
  },
  {
   "cell_type": "code",
   "execution_count": 7,
   "metadata": {},
   "outputs": [
    {
     "data": {
      "text/html": [
       "<div>\n",
       "<style scoped>\n",
       "    .dataframe tbody tr th:only-of-type {\n",
       "        vertical-align: middle;\n",
       "    }\n",
       "\n",
       "    .dataframe tbody tr th {\n",
       "        vertical-align: top;\n",
       "    }\n",
       "\n",
       "    .dataframe thead th {\n",
       "        text-align: right;\n",
       "    }\n",
       "</style>\n",
       "<table border=\"1\" class=\"dataframe\">\n",
       "  <thead>\n",
       "    <tr style=\"text-align: right;\">\n",
       "      <th></th>\n",
       "      <th>ds</th>\n",
       "      <th>trend</th>\n",
       "      <th>yhat_lower</th>\n",
       "      <th>yhat_upper</th>\n",
       "      <th>trend_lower</th>\n",
       "      <th>trend_upper</th>\n",
       "      <th>additive_terms</th>\n",
       "      <th>additive_terms_lower</th>\n",
       "      <th>additive_terms_upper</th>\n",
       "      <th>multiplicative_terms</th>\n",
       "      <th>multiplicative_terms_lower</th>\n",
       "      <th>multiplicative_terms_upper</th>\n",
       "      <th>yhat</th>\n",
       "    </tr>\n",
       "  </thead>\n",
       "  <tbody>\n",
       "    <tr>\n",
       "      <th>0</th>\n",
       "      <td>2024-08-18 13:32:35.928693</td>\n",
       "      <td>9.872475e+06</td>\n",
       "      <td>-4.640350e+07</td>\n",
       "      <td>6.139757e+07</td>\n",
       "      <td>9.872475e+06</td>\n",
       "      <td>9.872475e+06</td>\n",
       "      <td>0.0</td>\n",
       "      <td>0.0</td>\n",
       "      <td>0.0</td>\n",
       "      <td>0.0</td>\n",
       "      <td>0.0</td>\n",
       "      <td>0.0</td>\n",
       "      <td>9.872475e+06</td>\n",
       "    </tr>\n",
       "    <tr>\n",
       "      <th>1</th>\n",
       "      <td>2024-08-18 13:34:41.512255</td>\n",
       "      <td>6.964638e+07</td>\n",
       "      <td>1.672447e+07</td>\n",
       "      <td>1.218496e+08</td>\n",
       "      <td>6.964638e+07</td>\n",
       "      <td>6.964638e+07</td>\n",
       "      <td>0.0</td>\n",
       "      <td>0.0</td>\n",
       "      <td>0.0</td>\n",
       "      <td>0.0</td>\n",
       "      <td>0.0</td>\n",
       "      <td>0.0</td>\n",
       "      <td>6.964638e+07</td>\n",
       "    </tr>\n",
       "    <tr>\n",
       "      <th>2</th>\n",
       "      <td>2024-08-18 13:34:48.718056</td>\n",
       "      <td>7.307612e+07</td>\n",
       "      <td>2.321815e+07</td>\n",
       "      <td>1.243597e+08</td>\n",
       "      <td>7.307612e+07</td>\n",
       "      <td>7.307612e+07</td>\n",
       "      <td>0.0</td>\n",
       "      <td>0.0</td>\n",
       "      <td>0.0</td>\n",
       "      <td>0.0</td>\n",
       "      <td>0.0</td>\n",
       "      <td>0.0</td>\n",
       "      <td>7.307612e+07</td>\n",
       "    </tr>\n",
       "    <tr>\n",
       "      <th>3</th>\n",
       "      <td>2024-08-18 14:34:48.718056</td>\n",
       "      <td>1.786565e+09</td>\n",
       "      <td>1.733023e+09</td>\n",
       "      <td>1.840816e+09</td>\n",
       "      <td>1.786565e+09</td>\n",
       "      <td>1.786565e+09</td>\n",
       "      <td>0.0</td>\n",
       "      <td>0.0</td>\n",
       "      <td>0.0</td>\n",
       "      <td>0.0</td>\n",
       "      <td>0.0</td>\n",
       "      <td>0.0</td>\n",
       "      <td>1.786565e+09</td>\n",
       "    </tr>\n",
       "  </tbody>\n",
       "</table>\n",
       "</div>"
      ],
      "text/plain": [
       "                          ds         trend    yhat_lower    yhat_upper  \\\n",
       "0 2024-08-18 13:32:35.928693  9.872475e+06 -4.640350e+07  6.139757e+07   \n",
       "1 2024-08-18 13:34:41.512255  6.964638e+07  1.672447e+07  1.218496e+08   \n",
       "2 2024-08-18 13:34:48.718056  7.307612e+07  2.321815e+07  1.243597e+08   \n",
       "3 2024-08-18 14:34:48.718056  1.786565e+09  1.733023e+09  1.840816e+09   \n",
       "\n",
       "    trend_lower   trend_upper  additive_terms  additive_terms_lower  \\\n",
       "0  9.872475e+06  9.872475e+06             0.0                   0.0   \n",
       "1  6.964638e+07  6.964638e+07             0.0                   0.0   \n",
       "2  7.307612e+07  7.307612e+07             0.0                   0.0   \n",
       "3  1.786565e+09  1.786565e+09             0.0                   0.0   \n",
       "\n",
       "   additive_terms_upper  multiplicative_terms  multiplicative_terms_lower  \\\n",
       "0                   0.0                   0.0                         0.0   \n",
       "1                   0.0                   0.0                         0.0   \n",
       "2                   0.0                   0.0                         0.0   \n",
       "3                   0.0                   0.0                         0.0   \n",
       "\n",
       "   multiplicative_terms_upper          yhat  \n",
       "0                         0.0  9.872475e+06  \n",
       "1                         0.0  6.964638e+07  \n",
       "2                         0.0  7.307612e+07  \n",
       "3                         0.0  1.786565e+09  "
      ]
     },
     "execution_count": 7,
     "metadata": {},
     "output_type": "execute_result"
    }
   ],
   "source": [
    "forecast = m.predict(future)\n",
    "forecast.tail()"
   ]
  },
  {
   "cell_type": "code",
   "execution_count": null,
   "metadata": {},
   "outputs": [],
   "source": []
  }
 ],
 "metadata": {
  "kernelspec": {
   "display_name": "Python 3",
   "language": "python",
   "name": "python3"
  },
  "language_info": {
   "codemirror_mode": {
    "name": "ipython",
    "version": 3
   },
   "file_extension": ".py",
   "mimetype": "text/x-python",
   "name": "python",
   "nbconvert_exporter": "python",
   "pygments_lexer": "ipython3",
   "version": "3.10.13"
  }
 },
 "nbformat": 4,
 "nbformat_minor": 2
}
